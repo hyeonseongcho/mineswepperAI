{
 "cells": [
  {
   "cell_type": "code",
   "execution_count": 1,
   "metadata": {},
   "outputs": [],
   "source": [
    "import numpy as np\n",
    "\n",
    "from minesweeper import Minesweeper"
   ]
  },
  {
   "cell_type": "code",
   "execution_count": 4,
   "metadata": {},
   "outputs": [
    {
     "name": "stdout",
     "output_type": "stream",
     "text": [
      "[[0. 0. 0. 1. 2. 2. 1. 0.]\n",
      " [0. 0. 0. 1. 1. 1. 1. 0.]\n",
      " [0. 1. 1. 2. 2. 2. 1. 0.]\n",
      " [0. 1. 0. 1. 0. 0. 1. 1.]\n",
      " [1. 3. 3. 3. 1. 1. 1. 0.]\n",
      " [1. 1. 1. 2. 0. 1. 2. 2.]\n",
      " [1. 2. 2. 3. 3. 3. 2. 0.]\n",
      " [0. 0. 0. 1. 1. 1. 2. 1.]]\n",
      "-------------------\n",
      "[[-5. -5. -5. -5. -5. -5. -5. -5.]\n",
      " [-5. -5. -5. -5. -5. -5. -5. -5.]\n",
      " [-5. -5. -5. -5. -5. -5. -5. -5.]\n",
      " [-5. -5. -5. -5. -5. -5. -5. -5.]\n",
      " [-5. -5. -5. -5. -5. -5. -5. -5.]\n",
      " [-5. -5. -5. -5. -5. -5. -5. -5.]\n",
      " [-5. -5. -5. -5. -5. -5. -5. -5.]\n",
      " [-5. -5. -5. -5. -5. -5. -5. -5.]]\n"
     ]
    }
   ],
   "source": [
    "game = Minesweeper(num_mine=10, sizeX=8, sizeY=8)\n",
    "print(game.num_mine_around)\n",
    "print('-------------------')\n",
    "print(game.get_state())"
   ]
  },
  {
   "cell_type": "code",
   "execution_count": 5,
   "metadata": {},
   "outputs": [
    {
     "name": "stdout",
     "output_type": "stream",
     "text": [
      "win 0 dead 0\n"
     ]
    },
    {
     "data": {
      "text/plain": [
       "(0, 0)"
      ]
     },
     "execution_count": 5,
     "metadata": {},
     "output_type": "execute_result"
    }
   ],
   "source": [
    "game.action(28)"
   ]
  },
  {
   "cell_type": "code",
   "execution_count": 6,
   "metadata": {},
   "outputs": [
    {
     "data": {
      "text/plain": [
       "array([[-5., -5., -5., -5., -5., -5., -5., -5.],\n",
       "       [-5., -5., -5., -5., -5., -5., -5., -5.],\n",
       "       [-5., -5., -5.,  2.,  2.,  2.,  1., -5.],\n",
       "       [-5., -5., -5.,  1.,  0.,  0.,  1., -5.],\n",
       "       [-5., -5., -5.,  3.,  1.,  1.,  1., -5.],\n",
       "       [-5., -5., -5., -5., -5., -5., -5., -5.],\n",
       "       [-5., -5., -5., -5., -5., -5., -5., -5.],\n",
       "       [-5., -5., -5., -5., -5., -5., -5., -5.]])"
      ]
     },
     "execution_count": 6,
     "metadata": {},
     "output_type": "execute_result"
    }
   ],
   "source": [
    "game.get_state()"
   ]
  },
  {
   "cell_type": "code",
   "execution_count": null,
   "metadata": {},
   "outputs": [],
   "source": []
  }
 ],
 "metadata": {
  "kernelspec": {
   "display_name": "Python 3.10.4 ('battleship')",
   "language": "python",
   "name": "python3"
  },
  "language_info": {
   "codemirror_mode": {
    "name": "ipython",
    "version": 3
   },
   "file_extension": ".py",
   "mimetype": "text/x-python",
   "name": "python",
   "nbconvert_exporter": "python",
   "pygments_lexer": "ipython3",
   "version": "3.10.4"
  },
  "orig_nbformat": 4,
  "vscode": {
   "interpreter": {
    "hash": "9880b98847873a5b7025183a2690c0d57df4e9b97895fa033d8aae225c09ba02"
   }
  }
 },
 "nbformat": 4,
 "nbformat_minor": 2
}
